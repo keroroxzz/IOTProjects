{
 "cells": [
  {
   "cell_type": "markdown",
   "id": "8e0c9a0a",
   "metadata": {},
   "source": [
    "# IOT-IPS\n",
    "\n",
    "The script for iot-ips project\n",
    "\n",
    "Current use a simple fully-connected regressor with averaged rssi + csi information.\n",
    "\n",
    "If you want to add more information to input, you can modify the parser function."
   ]
  },
  {
   "cell_type": "code",
   "execution_count": 1,
   "id": "81e9c001",
   "metadata": {},
   "outputs": [
    {
     "name": "stderr",
     "output_type": "stream",
     "text": [
      "/home/rtu/anaconda3/envs/habitat/lib/python3.7/site-packages/tqdm/auto.py:22: TqdmWarning: IProgress not found. Please update jupyter and ipywidgets. See https://ipywidgets.readthedocs.io/en/stable/user_install.html\n",
      "  from .autonotebook import tqdm as notebook_tqdm\n"
     ]
    }
   ],
   "source": [
    "import os\n",
    "import sys\n",
    "import csv\n",
    "import math\n",
    "import torch\n",
    "import numpy as np\n",
    "import torch.nn as nn\n",
    "import pandas as pd\n",
    "\n",
    "from tqdm import tqdm\n",
    "from torch.utils.data import Dataset, DataLoader, random_split"
   ]
  },
  {
   "cell_type": "code",
   "execution_count": 2,
   "id": "f7c5716c",
   "metadata": {},
   "outputs": [],
   "source": [
    "myseed = 6666  # set a random seed for reproducibility\n",
    "torch.backends.cudnn.deterministic = True\n",
    "torch.backends.cudnn.benchmark = False\n",
    "np.random.seed(myseed)\n",
    "torch.manual_seed(myseed)\n",
    "if torch.cuda.is_available():\n",
    "    torch.cuda.manual_seed_all(myseed)"
   ]
  },
  {
   "cell_type": "markdown",
   "id": "d876d3ce",
   "metadata": {},
   "source": [
    "# Data"
   ]
  },
  {
   "cell_type": "markdown",
   "id": "17c5376e",
   "metadata": {},
   "source": [
    "## Define the input format"
   ]
  },
  {
   "cell_type": "code",
   "execution_count": 3,
   "id": "01975ae0",
   "metadata": {},
   "outputs": [],
   "source": [
    "def parser(rssi, csi, position):\n",
    "    '''\n",
    "    description:\n",
    "        this is a function to rearrange the raw data into the form of your model input\n",
    "        so that you can easily design the input format and arrange the input data.\n",
    "        \n",
    "    input:\n",
    "        rssi: the averaged rssi in one collect file, stored in numpy array\n",
    "        csi: an array consists of all csi data in one collect file, stored in a 2D numpy array\n",
    "        position: nparray(x,y)\n",
    "        Note: both the rssi and csi belong to the same location\n",
    "        \n",
    "    output:\n",
    "        x: the list containing inputs of the model\n",
    "        y: the correspond ground truth\n",
    "    '''\n",
    "    \n",
    "    signal = np.concatenate((rssi,csi.mean(axis=0)))\n",
    "    x = [signal,]\n",
    "    y = [position,]\n",
    "    \n",
    "    return x, y # use rssi data only as example"
   ]
  },
  {
   "cell_type": "markdown",
   "id": "25ff5a46",
   "metadata": {},
   "source": [
    "## Dataset"
   ]
  },
  {
   "cell_type": "code",
   "execution_count": 4,
   "id": "ce83f66e",
   "metadata": {},
   "outputs": [],
   "source": [
    "class Dataset(Dataset):\n",
    "    \n",
    "    def __init__(self, path, parser):\n",
    "        filenames = os.listdir(path)\n",
    "        self.parser = parser\n",
    "        \n",
    "        self.x = []\n",
    "        self.y = []\n",
    "        \n",
    "        for name in filenames:\n",
    "            if 'csi' in name:\n",
    "                file = os.path.join(path, name)\n",
    "                x,y = self.readOne(file)\n",
    "                self.x.extend(x)\n",
    "                self.y.extend(y)\n",
    "                      \n",
    "    def readOne(self, fname):\n",
    "        \n",
    "        if 'csi' in fname:\n",
    "            csi = fname\n",
    "            rssi = fname.replace('csi','rssi')\n",
    "        elif 'rssi' in fname:\n",
    "            rssi = fname\n",
    "            csi = fname.replace('rssi','csi')\n",
    "        \n",
    "        # parse the position from the file name\n",
    "        position = csi[csi.find('csi')+3: csi.rfind('.')].split('_')\n",
    "        position = np.asfarray([float(i) for i in position])\n",
    "        \n",
    "        rssi_f = open(rssi)\n",
    "        csi_f = open(csi)\n",
    "        rssilines = rssi_f.readlines()\n",
    "        csilines = csi_f.readlines()\n",
    "        \n",
    "        # Read the rssi and average\n",
    "        row = 0\n",
    "        rssi_data = np.zeros(8, dtype=float)\n",
    "        for line in rssilines:\n",
    "            rssi_raw = line.split(',')\n",
    "            try:\n",
    "                rssi_data += np.asfarray([int(i) for i in rssi_raw])\n",
    "                row += 1\n",
    "            except:\n",
    "                continue\n",
    "        rssi_data /= row\n",
    "            \n",
    "        # Read the csi\n",
    "        csi_data = []\n",
    "        for line in csilines:\n",
    "            csi_raw = line.split(',')[-2][1:-2]  # skip the brackets and space\n",
    "            csi_str = csi_raw.split(' ')\n",
    "            csi_float = np.asfarray([int(i) for i in csi_str])\n",
    "            csi_data.append(csi_float)\n",
    "        csi_data = np.asfarray(csi_data)\n",
    "        \n",
    "        rssi_f.close()\n",
    "        csi_f.close()\n",
    "        \n",
    "        x,y = self.parser(rssi_data, csi_data, position)\n",
    "        x = [torch.Tensor(i) for i in x]\n",
    "        y = [torch.Tensor(i) for i in y]\n",
    "        \n",
    "        return x,y\n",
    "        \n",
    "    def __getitem__(self, idx):\n",
    "        return self.x[idx], self.y[idx]\n",
    "\n",
    "    def __len__(self):\n",
    "        return len(self.x)"
   ]
  },
  {
   "cell_type": "markdown",
   "id": "72f87ffe",
   "metadata": {},
   "source": [
    "# Model"
   ]
  },
  {
   "cell_type": "code",
   "execution_count": 5,
   "id": "21e1064f",
   "metadata": {},
   "outputs": [],
   "source": [
    "class Model(nn.Module):\n",
    "    def __init__(self, input_dim=136, hidden=32):\n",
    "        super(Model, self).__init__()\n",
    "        \n",
    "        ylayers = [\n",
    "            nn.Linear(input_dim,hidden),\n",
    "            nn.LeakyReLU(),\n",
    "            nn.Linear(hidden,1),\n",
    "        ]\n",
    "        \n",
    "        xlayers = [\n",
    "            nn.Linear(input_dim,hidden),\n",
    "            nn.LeakyReLU(),\n",
    "            nn.Linear(hidden,1),\n",
    "        ]\n",
    "        \n",
    "        self.xlayers = nn.Sequential(*xlayers)\n",
    "        self.ylayers = nn.Sequential(*ylayers)\n",
    "        \n",
    "    def forward(self, s):\n",
    "        x = self.xlayers(s)\n",
    "        y = self.ylayers(s)\n",
    "        o = torch.concat((x,y), axis=1)\n",
    "        return o"
   ]
  },
  {
   "cell_type": "markdown",
   "id": "19aea58a",
   "metadata": {},
   "source": [
    "# Hyper Parameters"
   ]
  },
  {
   "cell_type": "code",
   "execution_count": 6,
   "id": "24716bd7",
   "metadata": {},
   "outputs": [],
   "source": [
    "lr = 0.0001\n",
    "momentum = 0.01\n",
    "n_epochs = 10000\n",
    "batch_size = 32\n",
    "valid_epoch = 1000\n",
    "save_path = './test.pt'\n",
    "device = 'cuda' if torch.cuda.is_available() else 'cpu'"
   ]
  },
  {
   "cell_type": "code",
   "execution_count": 7,
   "id": "414ece05",
   "metadata": {},
   "outputs": [],
   "source": [
    "train_dataset = Dataset('data/train', parser)\n",
    "test_dataset = Dataset('data/test', parser)\n",
    "train_loader = DataLoader(train_dataset, batch_size=batch_size, shuffle=False, pin_memory=True)\n",
    "valid_loader = DataLoader(test_dataset, batch_size=batch_size, shuffle=False, pin_memory=True)\n",
    "\n",
    "model = Model().to(device)"
   ]
  },
  {
   "cell_type": "code",
   "execution_count": 8,
   "id": "16324677",
   "metadata": {},
   "outputs": [
    {
     "name": "stderr",
     "output_type": "stream",
     "text": [
      "Epoch [50/10000]:   0%|           | 49/10000 [00:00<00:41, 239.91it/s, loss=3.6]"
     ]
    },
    {
     "name": "stdout",
     "output_type": "stream",
     "text": [
      "Epoch [1/10000]: Train loss: 8.8263, Valid loss: 13.7398\n",
      "Saving model with loss 13.740...\n"
     ]
    },
    {
     "name": "stderr",
     "output_type": "stream",
     "text": [
      "Epoch [1046/10000]:  10%|▋     | 1043/10000 [00:04<00:37, 241.16it/s, loss=2.19]"
     ]
    },
    {
     "name": "stdout",
     "output_type": "stream",
     "text": [
      "Epoch [1001/10000]: Train loss: 2.1831, Valid loss: 5.4317\n",
      "Saving model with loss 5.432...\n"
     ]
    },
    {
     "name": "stderr",
     "output_type": "stream",
     "text": [
      "Epoch [2049/10000]:  20%|█▏    | 2041/10000 [00:08<00:30, 259.37it/s, loss=2.06]"
     ]
    },
    {
     "name": "stdout",
     "output_type": "stream",
     "text": [
      "Epoch [2001/10000]: Train loss: 2.0372, Valid loss: 4.6197\n",
      "Saving model with loss 4.620...\n"
     ]
    },
    {
     "name": "stderr",
     "output_type": "stream",
     "text": [
      "Epoch [3046/10000]:  30%|██     | 3023/10000 [00:12<00:32, 213.07it/s, loss=1.9]"
     ]
    },
    {
     "name": "stdout",
     "output_type": "stream",
     "text": [
      "Epoch [3001/10000]: Train loss: 1.8728, Valid loss: 4.3706\n",
      "Saving model with loss 4.371...\n"
     ]
    },
    {
     "name": "stderr",
     "output_type": "stream",
     "text": [
      "Epoch [4052/10000]:  40%|██▍   | 4046/10000 [00:16<00:24, 246.34it/s, loss=1.74]"
     ]
    },
    {
     "name": "stdout",
     "output_type": "stream",
     "text": [
      "Epoch [4001/10000]: Train loss: 1.7437, Valid loss: 4.3323\n",
      "Saving model with loss 4.332...\n"
     ]
    },
    {
     "name": "stderr",
     "output_type": "stream",
     "text": [
      "Epoch [5046/10000]:  50%|███   | 5039/10000 [00:21<00:22, 224.55it/s, loss=1.61]"
     ]
    },
    {
     "name": "stdout",
     "output_type": "stream",
     "text": [
      "Epoch [5001/10000]: Train loss: 1.6173, Valid loss: 4.4059\n"
     ]
    },
    {
     "name": "stderr",
     "output_type": "stream",
     "text": [
      "Epoch [6052/10000]:  60%|███▌  | 6028/10000 [00:25<00:16, 240.78it/s, loss=1.47]"
     ]
    },
    {
     "name": "stdout",
     "output_type": "stream",
     "text": [
      "Epoch [6001/10000]: Train loss: 1.5799, Valid loss: 4.4379\n"
     ]
    },
    {
     "name": "stderr",
     "output_type": "stream",
     "text": [
      "Epoch [7047/10000]:  70%|████▏ | 7037/10000 [00:29<00:12, 229.98it/s, loss=1.41]"
     ]
    },
    {
     "name": "stdout",
     "output_type": "stream",
     "text": [
      "Epoch [7001/10000]: Train loss: 1.4875, Valid loss: 4.4384\n"
     ]
    },
    {
     "name": "stderr",
     "output_type": "stream",
     "text": [
      "Epoch [8050/10000]:  80%|████▊ | 8036/10000 [00:33<00:08, 241.68it/s, loss=1.48]"
     ]
    },
    {
     "name": "stdout",
     "output_type": "stream",
     "text": [
      "Epoch [8001/10000]: Train loss: 1.4398, Valid loss: 4.3774\n"
     ]
    },
    {
     "name": "stderr",
     "output_type": "stream",
     "text": [
      "Epoch [9062/10000]:  90%|█████▍| 9048/10000 [00:37<00:03, 275.52it/s, loss=1.27]"
     ]
    },
    {
     "name": "stdout",
     "output_type": "stream",
     "text": [
      "Epoch [9001/10000]: Train loss: 1.2730, Valid loss: 4.6047\n"
     ]
    },
    {
     "name": "stderr",
     "output_type": "stream",
     "text": [
      "Epoch [10000/10000]: 100%|████| 10000/10000 [00:41<00:00, 242.97it/s, loss=1.28]\n"
     ]
    }
   ],
   "source": [
    "criterion = nn.MSELoss(reduction='mean')\n",
    "optimizer = torch.optim.SGD(model.parameters(), lr=lr, momentum=momentum) \n",
    "\n",
    "\n",
    "best_loss, step, early_stop_count = math.inf, 0, 0\n",
    "\n",
    "train_pbar = tqdm(range(n_epochs), position=0, leave=True)\n",
    "for epoch in train_pbar:\n",
    "    model.train()\n",
    "    loss_record = []\n",
    "\n",
    "    for x, y in train_loader:\n",
    "        x, y = x.to(device), y.to(device)\n",
    "        pred = model(x+torch.rand(x.size()).to(device))  \n",
    "        loss = criterion(pred, y)\n",
    "        \n",
    "        optimizer.zero_grad()\n",
    "        loss.backward()\n",
    "        optimizer.step()\n",
    "        \n",
    "        step += 1\n",
    "        loss_record.append(loss.detach().item())\n",
    "\n",
    "        # Display current epoch number and loss on tqdm progress bar.\n",
    "        train_pbar.set_description(f'Epoch [{epoch+1}/{n_epochs}]')\n",
    "        train_pbar.set_postfix({'loss': loss.detach().item()})\n",
    "\n",
    "    if epoch % valid_epoch==0:\n",
    "        mean_train_loss = sum(loss_record)/len(loss_record)\n",
    "\n",
    "        model.eval() # Set your model to evaluation mode.\n",
    "        loss_record = []\n",
    "        for x, y in valid_loader:\n",
    "            x, y = x.to(device), y.to(device)\n",
    "            with torch.no_grad():\n",
    "                pred = model(x)\n",
    "                loss = criterion(pred, y)\n",
    "\n",
    "            loss_record.append(loss.item())\n",
    "\n",
    "        mean_valid_loss = sum(loss_record)/len(loss_record)\n",
    "        print(f'Epoch [{epoch+1}/{n_epochs}]: Train loss: {mean_train_loss:.4f}, Valid loss: {mean_valid_loss:.4f}')\n",
    "\n",
    "    if mean_valid_loss < best_loss:\n",
    "        best_loss = mean_valid_loss\n",
    "        torch.save(model.state_dict(), save_path)\n",
    "        print('Saving model with loss {:.3f}...'.format(best_loss))\n"
   ]
  },
  {
   "cell_type": "code",
   "execution_count": 9,
   "id": "a855099b",
   "metadata": {},
   "outputs": [
    {
     "name": "stdout",
     "output_type": "stream",
     "text": [
      "Input: [-2.70e+01 -3.30e+01 -4.50e+01 -3.60e+01 -4.10e+01 -4.50e+01 -5.50e+01\n",
      " -4.50e+01  0.00e+00  0.00e+00 -1.06e+00  5.60e-01 -1.68e+00  1.80e-01\n",
      " -1.52e+00  4.40e-01 -1.28e+00  1.40e-01 -1.28e+00  1.20e-01 -1.28e+00\n",
      "  4.80e-01 -1.14e+00  2.60e-01 -1.08e+00  2.00e-01 -1.14e+00  0.00e+00\n",
      " -1.24e+00  2.20e-01 -1.18e+00 -2.00e-02 -1.10e+00 -4.00e-02 -1.20e+00\n",
      "  0.00e+00 -1.16e+00  2.00e-01 -1.14e+00  9.60e-01 -1.14e+00  1.40e-01\n",
      " -1.06e+00 -4.00e-02 -9.00e-01 -4.00e-02 -1.10e+00 -3.20e-01 -8.00e-01\n",
      " -4.00e-01 -1.22e+00 -2.40e-01 -1.08e+00 -3.60e-01 -9.40e-01 -4.00e-01\n",
      " -8.80e-01 -4.20e-01 -9.00e-01 -4.60e-01 -8.60e-01 -8.60e-01  0.00e+00\n",
      "  0.00e+00  0.00e+00  0.00e+00  0.00e+00  0.00e+00  0.00e+00  0.00e+00\n",
      "  0.00e+00  0.00e+00  0.00e+00  0.00e+00  0.00e+00  0.00e+00  0.00e+00\n",
      "  0.00e+00  0.00e+00  0.00e+00  0.00e+00  0.00e+00  0.00e+00  0.00e+00\n",
      " -1.56e+00  4.20e-01 -1.64e+00  3.00e-01 -1.66e+00  1.20e-01 -1.62e+00\n",
      "  1.80e-01 -1.70e+00  1.80e-01 -1.70e+00  1.80e-01 -1.92e+00  3.00e-01\n",
      " -1.72e+00  8.00e-02 -1.72e+00  1.40e-01 -1.90e+00  8.00e-02 -1.86e+00\n",
      "  1.20e-01 -1.96e+00  3.40e-01 -1.76e+00 -2.00e-02 -1.86e+00  1.60e-01\n",
      " -1.82e+00  8.00e-02 -1.96e+00  0.00e+00 -1.86e+00  1.60e-01 -1.82e+00\n",
      " -6.00e-02 -1.72e+00  2.00e-02 -1.48e+00 -6.00e-02 -1.80e+00  4.00e-02\n",
      " -1.54e+00  8.00e-02 -1.82e+00  3.00e-01 -1.40e+00  1.00e-01 -1.42e+00\n",
      "  4.00e-02 -1.16e+00  1.20e-01]\n",
      "Prediction: [0.07466802 4.3741016 ]\n",
      "GT        : [1. 7.]\n",
      "\n",
      "\n",
      "Input: [-37.   -35.   -44.   -37.   -40.   -46.   -55.   -46.     0.     0.\n",
      "  -0.9   -1.16  -1.06  -1.36  -1.06  -1.34  -0.98  -1.18  -0.8   -1.16\n",
      "  -0.96  -1.08  -0.9   -1.14  -0.84  -1.12  -1.06  -0.92  -1.04  -1.2\n",
      "  -0.96  -1.12  -1.08  -1.08  -1.04  -1.08  -1.1   -1.    -0.76  -0.34\n",
      "  -0.86  -0.98  -1.    -0.86  -0.84  -0.88  -1.    -0.84  -0.72  -0.92\n",
      "  -0.84  -0.92  -0.78  -0.7   -0.76  -0.88  -0.62  -0.82  -0.38  -0.8\n",
      "  -0.66  -0.92   0.     0.     0.     0.     0.     0.     0.     0.\n",
      "   0.     0.     0.     0.     0.     0.     0.     0.     0.     0.\n",
      "   0.     0.     0.     0.    -0.52  -1.92  -0.52  -1.78  -0.46  -1.94\n",
      "  -0.52  -1.84  -0.2   -1.86  -0.3   -1.8   -0.32  -1.64  -0.34  -1.72\n",
      "  -0.24  -1.7   -0.3   -1.7   -0.28  -1.72  -0.36  -1.66  -0.28  -1.66\n",
      "  -0.32  -1.72  -0.36  -1.6   -0.52  -1.66  -0.5   -1.6   -0.54  -1.56\n",
      "  -0.62  -1.5   -0.64  -1.36  -0.52  -1.56  -0.58  -1.52  -0.68  -1.28\n",
      "  -0.7   -1.46  -0.7   -1.32  -0.64  -1.34]\n",
      "Prediction: [0.8710046 5.7526083]\n",
      "GT        : [-1.  6.]\n",
      "\n",
      "\n",
      "Input: [-2.30e+01 -3.90e+01 -3.80e+01 -3.70e+01 -3.40e+01 -5.20e+01 -5.90e+01\n",
      " -4.90e+01  0.00e+00  0.00e+00  1.12e+00 -7.80e-01  8.40e-01 -8.00e-01\n",
      "  8.40e-01 -9.20e-01  1.16e+00 -9.80e-01  1.00e+00 -1.22e+00  9.20e-01\n",
      " -9.80e-01  9.60e-01 -1.16e+00  8.60e-01 -1.06e+00  7.20e-01 -1.36e+00\n",
      "  1.00e+00 -1.54e+00  8.00e-01 -1.38e+00  6.20e-01 -1.64e+00  6.40e-01\n",
      " -1.62e+00  7.40e-01 -1.70e+00 -1.00e-01 -1.48e+00  9.00e-01 -1.50e+00\n",
      "  1.06e+00 -1.40e+00  1.18e+00 -1.40e+00  9.40e-01 -1.42e+00  1.18e+00\n",
      " -1.54e+00  1.12e+00 -1.38e+00  1.14e+00 -1.38e+00  1.02e+00 -1.52e+00\n",
      "  1.04e+00 -1.00e+00  1.12e+00 -1.06e+00  1.28e+00 -9.60e-01  0.00e+00\n",
      "  0.00e+00  0.00e+00  0.00e+00  0.00e+00  0.00e+00  0.00e+00  0.00e+00\n",
      "  0.00e+00  0.00e+00  0.00e+00  0.00e+00  0.00e+00  0.00e+00  0.00e+00\n",
      "  0.00e+00  0.00e+00  0.00e+00  0.00e+00  0.00e+00  0.00e+00  0.00e+00\n",
      "  6.80e-01 -4.00e-02  4.80e-01  2.00e-02  5.00e-01 -1.20e-01  6.00e-01\n",
      "  1.20e-01  6.40e-01 -4.00e-02  5.80e-01  1.00e-01  5.60e-01  3.60e-01\n",
      "  7.20e-01  2.00e-01  7.60e-01  2.60e-01  8.20e-01  1.20e-01  5.20e-01\n",
      "  8.00e-02  5.00e-01  4.00e-02  6.20e-01  1.60e-01  6.80e-01  0.00e+00\n",
      "  6.80e-01 -6.00e-02  4.60e-01 -4.00e-02  5.20e-01 -2.00e-01  8.80e-01\n",
      " -4.20e-01  6.40e-01 -6.00e-01  7.00e-01 -4.80e-01  6.20e-01 -7.60e-01\n",
      "  1.04e+00 -6.20e-01  9.00e-01 -7.00e-01  8.00e-01 -6.00e-01  8.20e-01\n",
      " -7.40e-01  1.06e+00 -7.20e-01]\n",
      "Prediction: [1.6692054 5.343053 ]\n",
      "GT        : [4. 3.]\n",
      "\n",
      "\n",
      "Input: [-3.20e+01 -3.70e+01 -5.00e+01 -3.50e+01 -4.00e+01 -4.40e+01 -6.00e+01\n",
      " -5.10e+01  0.00e+00  0.00e+00 -7.20e-01  3.00e-01 -1.06e+00 -1.20e-01\n",
      " -9.20e-01 -6.00e-02 -5.40e-01 -4.00e-02 -7.40e-01 -1.40e-01 -6.20e-01\n",
      "  0.00e+00 -8.00e-01 -2.00e-01 -8.00e-01 -1.20e-01 -7.40e-01 -1.60e-01\n",
      " -7.40e-01 -4.00e-01 -7.60e-01 -2.00e-01 -8.60e-01 -2.60e-01 -1.08e+00\n",
      " -4.00e-02 -9.00e-01 -4.00e-02  5.40e-01 -1.40e-01 -7.20e-01 -1.60e-01\n",
      " -9.60e-01 -3.60e-01 -6.40e-01 -1.60e-01 -1.00e+00 -1.40e-01 -9.20e-01\n",
      " -2.60e-01 -1.22e+00 -1.60e-01 -9.40e-01 -1.40e-01 -8.00e-01 -2.80e-01\n",
      " -1.08e+00  2.00e-02 -1.22e+00 -1.80e-01 -1.10e+00 -4.00e-01  0.00e+00\n",
      "  0.00e+00  0.00e+00  0.00e+00  0.00e+00  0.00e+00  0.00e+00  0.00e+00\n",
      "  0.00e+00  0.00e+00  0.00e+00  0.00e+00  0.00e+00  0.00e+00  0.00e+00\n",
      "  0.00e+00  0.00e+00  0.00e+00  0.00e+00  0.00e+00  0.00e+00  0.00e+00\n",
      " -4.40e-01 -6.00e-02 -5.00e-01 -4.00e-02 -5.20e-01 -8.00e-02 -6.80e-01\n",
      "  0.00e+00 -6.40e-01  1.00e-01 -6.20e-01 -8.00e-02 -7.80e-01  8.00e-02\n",
      " -7.60e-01 -1.60e-01 -6.80e-01  1.60e-01 -7.20e-01  8.00e-02 -6.80e-01\n",
      "  1.00e-01 -8.00e-01 -1.00e-01 -5.00e-01  4.00e-02 -6.00e-01 -6.00e-02\n",
      " -7.00e-01  4.00e-02 -7.80e-01  4.00e-02 -8.00e-01  6.00e-02 -8.00e-01\n",
      " -6.00e-02 -7.40e-01  0.00e+00 -6.80e-01  1.20e-01 -6.60e-01  6.00e-02\n",
      " -6.00e-01 -6.00e-02 -8.00e-01 -6.00e-02 -5.60e-01 -4.00e-02 -5.80e-01\n",
      "  1.40e-01 -3.00e-01 -2.00e-02]\n",
      "Prediction: [0.3657554 5.422074 ]\n",
      "GT        : [1. 9.]\n",
      "\n",
      "\n",
      "Input: [-3.10e+01 -4.00e+01 -4.70e+01 -4.00e+01 -4.20e+01 -5.40e+01 -5.70e+01\n",
      " -5.30e+01  0.00e+00  0.00e+00 -2.04e+00  5.00e-01 -2.60e+00  4.80e-01\n",
      " -2.22e+00  5.20e-01 -2.44e+00  2.60e-01 -2.38e+00  2.40e-01 -1.92e+00\n",
      "  4.20e-01 -1.96e+00  4.40e-01 -1.72e+00  4.80e-01 -1.88e+00  4.80e-01\n",
      " -1.90e+00  2.20e-01 -1.80e+00  4.80e-01 -1.88e+00  1.40e-01 -1.92e+00\n",
      "  3.80e-01 -1.32e+00  6.40e-01 -8.60e-01  1.20e-01 -1.76e+00  5.20e-01\n",
      " -1.22e+00  2.00e-01 -1.32e+00  4.40e-01 -1.66e+00  0.00e+00 -1.12e+00\n",
      " -1.40e-01 -1.44e+00  2.20e-01 -1.22e+00  1.60e-01 -1.34e+00 -2.00e-02\n",
      " -9.60e-01 -6.00e-02 -1.02e+00  6.00e-02 -1.10e+00  3.80e-01  0.00e+00\n",
      "  0.00e+00  0.00e+00  0.00e+00  0.00e+00  0.00e+00  0.00e+00  0.00e+00\n",
      "  0.00e+00  0.00e+00  0.00e+00  0.00e+00  0.00e+00  0.00e+00  0.00e+00\n",
      "  0.00e+00  0.00e+00  0.00e+00  0.00e+00  0.00e+00  0.00e+00  0.00e+00\n",
      " -2.32e+00 -8.00e-01 -2.84e+00 -9.00e-01 -2.70e+00 -1.12e+00 -2.34e+00\n",
      " -1.16e+00 -2.30e+00 -1.10e+00 -2.62e+00 -1.08e+00 -2.60e+00 -1.28e+00\n",
      " -2.50e+00 -1.50e+00 -2.24e+00 -1.32e+00 -2.42e+00 -1.40e+00 -2.26e+00\n",
      " -1.54e+00 -2.12e+00 -1.42e+00 -1.96e+00 -1.16e+00 -2.04e+00 -1.22e+00\n",
      " -2.14e+00 -1.42e+00 -2.32e+00 -1.16e+00 -2.04e+00 -8.20e-01 -2.08e+00\n",
      " -9.00e-01 -1.82e+00 -7.60e-01 -1.84e+00 -5.80e-01 -1.90e+00 -3.80e-01\n",
      " -1.98e+00 -4.60e-01 -1.96e+00 -1.20e-01 -1.86e+00  2.00e-02 -1.96e+00\n",
      "  1.20e-01 -2.08e+00 -6.00e-02]\n",
      "Prediction: [0.6087687 3.9792855]\n",
      "GT        : [1.5 5.5]\n",
      "\n",
      "\n",
      "Input: [-3.00e+01 -6.70e+01 -4.60e+01 -3.50e+01 -3.70e+01 -4.70e+01 -5.90e+01\n",
      " -5.00e+01  0.00e+00  0.00e+00  4.60e-01 -3.40e-01  3.00e-01 -7.20e-01\n",
      "  2.20e-01 -6.60e-01  2.60e-01 -5.20e-01  3.20e-01 -4.00e-01  2.80e-01\n",
      " -4.60e-01  1.60e-01 -4.60e-01  1.00e-01 -3.80e-01  1.20e-01 -2.20e-01\n",
      "  1.40e-01 -2.00e-01  8.00e-02 -1.80e-01  8.00e-02 -1.20e-01 -4.00e-02\n",
      "  2.20e-01  0.00e+00  4.00e-02  6.60e-01  4.60e-01  5.80e-01  3.80e-01\n",
      "  1.40e-01  2.20e-01  6.60e-01  1.80e-01  5.20e-01 -1.00e-01  4.80e-01\n",
      "  2.00e-01  5.40e-01  1.20e-01  4.00e-01  3.40e-01  4.20e-01  1.40e-01\n",
      "  6.20e-01  6.00e-02  7.60e-01  1.00e-01  9.60e-01  3.80e-01  0.00e+00\n",
      "  0.00e+00  0.00e+00  0.00e+00  0.00e+00  0.00e+00  0.00e+00  0.00e+00\n",
      "  0.00e+00  0.00e+00  0.00e+00  0.00e+00  0.00e+00  0.00e+00  0.00e+00\n",
      "  0.00e+00  0.00e+00  0.00e+00  0.00e+00  0.00e+00  0.00e+00  0.00e+00\n",
      "  1.82e+00 -2.60e-01  1.92e+00 -2.20e-01  1.86e+00 -1.60e-01  1.94e+00\n",
      " -1.60e-01  1.96e+00 -8.00e-02  1.88e+00  2.20e-01  1.84e+00  2.00e-01\n",
      "  2.00e+00  2.00e-01  1.94e+00  4.20e-01  1.82e+00  1.60e-01  1.82e+00\n",
      "  1.40e-01  1.68e+00  8.00e-02  1.62e+00  1.20e-01  1.54e+00  4.00e-02\n",
      "  1.54e+00 -4.00e-02  1.24e+00 -2.60e-01  1.24e+00 -8.00e-02  1.28e+00\n",
      " -4.00e-01  9.60e-01 -6.40e-01  1.02e+00 -5.20e-01  1.04e+00 -7.00e-01\n",
      "  1.08e+00 -6.00e-01  7.80e-01 -6.40e-01  6.60e-01 -4.80e-01  5.40e-01\n",
      " -5.60e-01  6.20e-01 -6.60e-01]\n",
      "Prediction: [1.9272748 6.271533 ]\n",
      "GT        : [-1.  9.]\n",
      "\n",
      "\n"
     ]
    }
   ],
   "source": [
    "test_loader = DataLoader(test_dataset, batch_size=1, shuffle=False, pin_memory=True)\n",
    "\n",
    "model.eval() # Set your model to evaluation mode.\n",
    "loss_record = []\n",
    "with torch.no_grad():\n",
    "    for x, y in test_loader:\n",
    "        x, y = x.to(device), y.to(device)\n",
    "        pred = model(x)\n",
    "        print(f'Input: {x.cpu().detach().numpy()[0]}')\n",
    "        print(f'Prediction: {pred.cpu().detach().numpy()[0]}')\n",
    "        print(f'GT        : {y.cpu().detach().numpy()[0]}\\n\\n')"
   ]
  }
 ],
 "metadata": {
  "kernelspec": {
   "display_name": "habitat",
   "language": "python",
   "name": "habitat"
  },
  "language_info": {
   "codemirror_mode": {
    "name": "ipython",
    "version": 3
   },
   "file_extension": ".py",
   "mimetype": "text/x-python",
   "name": "python",
   "nbconvert_exporter": "python",
   "pygments_lexer": "ipython3",
   "version": "3.7.0"
  }
 },
 "nbformat": 4,
 "nbformat_minor": 5
}
