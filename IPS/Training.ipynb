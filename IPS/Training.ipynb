{
 "cells": [
  {
   "cell_type": "markdown",
   "id": "8e0c9a0a",
   "metadata": {},
   "source": [
    "# IOT-IPS\n",
    "\n",
    "The script for iot-ips project\n",
    "\n",
    "Current use a simple fully-connected model with rssi information only.\n",
    "\n",
    "If you want to add more information as input, you can modify the parser function."
   ]
  },
  {
   "cell_type": "code",
   "execution_count": 1,
   "id": "81e9c001",
   "metadata": {},
   "outputs": [
    {
     "name": "stderr",
     "output_type": "stream",
     "text": [
      "/home/rtu/anaconda3/envs/habitat/lib/python3.7/site-packages/tqdm/auto.py:22: TqdmWarning: IProgress not found. Please update jupyter and ipywidgets. See https://ipywidgets.readthedocs.io/en/stable/user_install.html\n",
      "  from .autonotebook import tqdm as notebook_tqdm\n"
     ]
    }
   ],
   "source": [
    "import os\n",
    "import sys\n",
    "import csv\n",
    "import math\n",
    "import torch\n",
    "import numpy as np\n",
    "import torch.nn as nn\n",
    "import pandas as pd\n",
    "\n",
    "from tqdm import tqdm\n",
    "from torch.utils.data import Dataset, DataLoader, random_split"
   ]
  },
  {
   "cell_type": "markdown",
   "id": "d876d3ce",
   "metadata": {},
   "source": [
    "# Data"
   ]
  },
  {
   "cell_type": "markdown",
   "id": "17c5376e",
   "metadata": {},
   "source": [
    "## Define the input format"
   ]
  },
  {
   "cell_type": "code",
   "execution_count": 2,
   "id": "01975ae0",
   "metadata": {},
   "outputs": [],
   "source": [
    "def parser(rssi, csi, position):\n",
    "    '''\n",
    "    description:\n",
    "        this is a function to rearrange the raw data into the form of your model input\n",
    "        so that you can easily design the input format and arrange the input data.\n",
    "        \n",
    "    input:\n",
    "        rssi: the averaged rssi in one collect file, stored in numpy array\n",
    "        csi: an array consists of all csi data in one collect file, stored in a 2D numpy array\n",
    "        position: nparray(x,y)\n",
    "        Note: both the rssi and csi belong to the same location\n",
    "        \n",
    "    output:\n",
    "        x: the list containing inputs of the model\n",
    "        y: the correspond ground truth\n",
    "    '''\n",
    "    \n",
    "    x = [rssi,]\n",
    "    y = [position,]\n",
    "    \n",
    "    return x, y # use rssi data only as example"
   ]
  },
  {
   "cell_type": "markdown",
   "id": "25ff5a46",
   "metadata": {},
   "source": [
    "## Dataset"
   ]
  },
  {
   "cell_type": "code",
   "execution_count": 3,
   "id": "ce83f66e",
   "metadata": {},
   "outputs": [],
   "source": [
    "class Dataset(Dataset):\n",
    "    \n",
    "    def __init__(self, path, parser):\n",
    "        filenames = os.listdir(path)\n",
    "        self.parser = parser\n",
    "        \n",
    "        self.x = []\n",
    "        self.y = []\n",
    "        \n",
    "        for name in filenames:\n",
    "            if 'csi' in name:\n",
    "                file = os.path.join(path, name)\n",
    "                x,y = self.readOne(file)\n",
    "                self.x.extend(x)\n",
    "                self.y.extend(y)\n",
    "                      \n",
    "    def readOne(self, fname):\n",
    "        \n",
    "        if 'csi' in fname:\n",
    "            csi = fname\n",
    "            rssi = fname.replace('csi','rssi')\n",
    "        elif 'rssi' in fname:\n",
    "            rssi = fname\n",
    "            csi = fname.replace('rssi','csi')\n",
    "        \n",
    "        # parse the position from the file name\n",
    "        position = csi[csi.find('csi')+3: csi.rfind('.')].split('_')\n",
    "        position = np.asfarray([float(i) for i in position])\n",
    "        \n",
    "        rssi_f = open(rssi)\n",
    "        csi_f = open(csi)\n",
    "        rssilines = rssi_f.readlines()\n",
    "        csilines = csi_f.readlines()\n",
    "        \n",
    "        # Read the rssi and average\n",
    "        row = 0\n",
    "        rssi_data = np.zeros(8, dtype=float)\n",
    "        for line in rssilines:\n",
    "            rssi_raw = line.split(',')\n",
    "            try:\n",
    "                rssi_data += np.asfarray([int(i) for i in rssi_raw])\n",
    "                row += 1\n",
    "            except:\n",
    "                continue\n",
    "        rssi_data /= row\n",
    "            \n",
    "        # Read the csi\n",
    "        csi_data = []\n",
    "        for line in csilines:\n",
    "            csi_raw = line.split(',')[-2][1:-2]  # skip the brackets and space\n",
    "            csi_str = csi_raw.split(' ')\n",
    "            csi_float = np.asfarray([int(i) for i in csi_str])\n",
    "            csi_data.append(csi_float)\n",
    "        csi_data = np.asfarray(csi_data)\n",
    "        \n",
    "        rssi_f.close()\n",
    "        csi_f.close()\n",
    "        \n",
    "        x,y = self.parser(rssi_data, csi_data, position)\n",
    "        x = [torch.Tensor(i) for i in x]\n",
    "        y = [torch.Tensor(i) for i in y]\n",
    "        \n",
    "        return x,y\n",
    "        \n",
    "    def __getitem__(self, idx):\n",
    "        return self.x[idx], self.y[idx]\n",
    "\n",
    "    def __len__(self):\n",
    "        return len(self.x)"
   ]
  },
  {
   "cell_type": "markdown",
   "id": "72f87ffe",
   "metadata": {},
   "source": [
    "# Model"
   ]
  },
  {
   "cell_type": "code",
   "execution_count": 4,
   "id": "21e1064f",
   "metadata": {},
   "outputs": [],
   "source": [
    "class Model(nn.Module):\n",
    "    def __init__(self):\n",
    "        super(Model, self).__init__()\n",
    "        \n",
    "        layers = [\n",
    "            nn.Linear(8,256),\n",
    "            nn.ReLU(),\n",
    "            nn.Linear(256,256),\n",
    "            nn.ReLU(),\n",
    "            nn.Linear(256,2),\n",
    "        ]\n",
    "        \n",
    "        self.layers = nn.Sequential(*layers)\n",
    "        \n",
    "    def forward(self, x):\n",
    "        return self.layers(x)"
   ]
  },
  {
   "cell_type": "markdown",
   "id": "19aea58a",
   "metadata": {},
   "source": [
    "# Hyper Parameters"
   ]
  },
  {
   "cell_type": "code",
   "execution_count": 5,
   "id": "24716bd7",
   "metadata": {},
   "outputs": [],
   "source": [
    "lr = 0.0001\n",
    "momentum = 0.01\n",
    "n_epochs = 1500\n",
    "batch_size = 32\n",
    "valid_epoch = 100\n",
    "save_path = './test.pt'\n",
    "device = 'cuda' if torch.cuda.is_available() else 'cpu'"
   ]
  },
  {
   "cell_type": "code",
   "execution_count": 6,
   "id": "414ece05",
   "metadata": {},
   "outputs": [],
   "source": [
    "train_dataset = Dataset('data/train', parser)\n",
    "test_dataset = Dataset('data/test', parser)\n",
    "train_loader = DataLoader(train_dataset, batch_size=batch_size, shuffle=False, pin_memory=True)\n",
    "valid_loader = DataLoader(test_dataset, batch_size=batch_size, shuffle=False, pin_memory=True)\n",
    "\n",
    "model = Model().to(device)"
   ]
  },
  {
   "cell_type": "code",
   "execution_count": 7,
   "id": "16324677",
   "metadata": {},
   "outputs": [
    {
     "name": "stderr",
     "output_type": "stream",
     "text": [
      "Epoch [55/1500]:   3%|▍           | 52/1500 [00:00<00:05, 265.96it/s, loss=2.82]"
     ]
    },
    {
     "name": "stdout",
     "output_type": "stream",
     "text": [
      "Epoch [1/1500]: Train loss: 13.2379, Valid loss: 40.6984\n",
      "Saving model with loss 40.698...\n"
     ]
    },
    {
     "name": "stderr",
     "output_type": "stream",
     "text": [
      "Epoch [153/1500]:   9%|▉         | 134/1500 [00:00<00:05, 266.10it/s, loss=2.52]"
     ]
    },
    {
     "name": "stdout",
     "output_type": "stream",
     "text": [
      "Epoch [101/1500]: Train loss: 2.6522, Valid loss: 6.2970\n",
      "Saving model with loss 6.297...\n"
     ]
    },
    {
     "name": "stderr",
     "output_type": "stream",
     "text": [
      "Epoch [259/1500]:  16%|█▋        | 245/1500 [00:00<00:04, 273.52it/s, loss=2.31]"
     ]
    },
    {
     "name": "stdout",
     "output_type": "stream",
     "text": [
      "Epoch [201/1500]: Train loss: 2.4220, Valid loss: 5.9927\n",
      "Saving model with loss 5.993...\n"
     ]
    },
    {
     "name": "stderr",
     "output_type": "stream",
     "text": [
      "Epoch [350/1500]:  22%|██▏       | 332/1500 [00:01<00:04, 264.32it/s, loss=2.15]"
     ]
    },
    {
     "name": "stdout",
     "output_type": "stream",
     "text": [
      "Epoch [301/1500]: Train loss: 2.2349, Valid loss: 5.7481\n",
      "Saving model with loss 5.748...\n"
     ]
    },
    {
     "name": "stderr",
     "output_type": "stream",
     "text": [
      "Epoch [454/1500]:  29%|██▉       | 441/1500 [00:01<00:04, 260.71it/s, loss=1.98]"
     ]
    },
    {
     "name": "stdout",
     "output_type": "stream",
     "text": [
      "Epoch [401/1500]: Train loss: 2.0671, Valid loss: 5.5040\n",
      "Saving model with loss 5.504...\n"
     ]
    },
    {
     "name": "stderr",
     "output_type": "stream",
     "text": [
      "Epoch [554/1500]:  37%|███▋      | 550/1500 [00:02<00:03, 264.97it/s, loss=1.83]"
     ]
    },
    {
     "name": "stdout",
     "output_type": "stream",
     "text": [
      "Epoch [501/1500]: Train loss: 1.9064, Valid loss: 5.3838\n",
      "Saving model with loss 5.384...\n"
     ]
    },
    {
     "name": "stderr",
     "output_type": "stream",
     "text": [
      "Epoch [652/1500]:  42%|████▏     | 631/1500 [00:02<00:03, 256.67it/s, loss=1.69]"
     ]
    },
    {
     "name": "stdout",
     "output_type": "stream",
     "text": [
      "Epoch [601/1500]: Train loss: 1.7614, Valid loss: 5.1939\n",
      "Saving model with loss 5.194...\n"
     ]
    },
    {
     "name": "stderr",
     "output_type": "stream",
     "text": [
      "Epoch [758/1500]:  49%|████▉     | 741/1500 [00:02<00:02, 270.71it/s, loss=1.55]"
     ]
    },
    {
     "name": "stdout",
     "output_type": "stream",
     "text": [
      "Epoch [701/1500]: Train loss: 1.6296, Valid loss: 5.1632\n",
      "Saving model with loss 5.163...\n"
     ]
    },
    {
     "name": "stderr",
     "output_type": "stream",
     "text": [
      "Epoch [858/1500]:  57%|█████▋    | 853/1500 [00:03<00:02, 269.29it/s, loss=1.46]"
     ]
    },
    {
     "name": "stdout",
     "output_type": "stream",
     "text": [
      "Epoch [801/1500]: Train loss: 1.5060, Valid loss: 5.1779\n"
     ]
    },
    {
     "name": "stderr",
     "output_type": "stream",
     "text": [
      "Epoch [955/1500]:  62%|██████▏   | 936/1500 [00:03<00:02, 267.52it/s, loss=1.43]"
     ]
    },
    {
     "name": "stdout",
     "output_type": "stream",
     "text": [
      "Epoch [901/1500]: Train loss: 1.4272, Valid loss: 4.9411\n",
      "Saving model with loss 4.941...\n"
     ]
    },
    {
     "name": "stderr",
     "output_type": "stream",
     "text": [
      "Epoch [1055/1500]:  70%|█████▌  | 1050/1500 [00:03<00:01, 268.98it/s, loss=1.49]"
     ]
    },
    {
     "name": "stdout",
     "output_type": "stream",
     "text": [
      "Epoch [1001/1500]: Train loss: 1.5005, Valid loss: 4.4970\n",
      "Saving model with loss 4.497...\n"
     ]
    },
    {
     "name": "stderr",
     "output_type": "stream",
     "text": [
      "Epoch [1159/1500]:  76%|██████  | 1136/1500 [00:04<00:01, 275.72it/s, loss=1.46]"
     ]
    },
    {
     "name": "stdout",
     "output_type": "stream",
     "text": [
      "Epoch [1101/1500]: Train loss: 1.4712, Valid loss: 4.4395\n",
      "Saving model with loss 4.439...\n"
     ]
    },
    {
     "name": "stderr",
     "output_type": "stream",
     "text": [
      "Epoch [1260/1500]:  83%|███████▌ | 1252/1500 [00:04<00:00, 282.84it/s, loss=1.4]"
     ]
    },
    {
     "name": "stdout",
     "output_type": "stream",
     "text": [
      "Epoch [1201/1500]: Train loss: 1.4438, Valid loss: 4.4090\n",
      "Saving model with loss 4.409...\n"
     ]
    },
    {
     "name": "stderr",
     "output_type": "stream",
     "text": [
      "Epoch [1361/1500]:  89%|███████▏| 1341/1500 [00:05<00:00, 286.31it/s, loss=1.37]"
     ]
    },
    {
     "name": "stdout",
     "output_type": "stream",
     "text": [
      "Epoch [1301/1500]: Train loss: 1.3526, Valid loss: 4.4453\n"
     ]
    },
    {
     "name": "stderr",
     "output_type": "stream",
     "text": [
      "Epoch [1449/1500]:  95%|████████▌| 1427/1500 [00:05<00:00, 259.75it/s, loss=1.3]"
     ]
    },
    {
     "name": "stdout",
     "output_type": "stream",
     "text": [
      "Epoch [1401/1500]: Train loss: 1.3368, Valid loss: 4.4246\n"
     ]
    },
    {
     "name": "stderr",
     "output_type": "stream",
     "text": [
      "Epoch [1500/1500]: 100%|████████| 1500/1500 [00:05<00:00, 266.77it/s, loss=1.29]\n"
     ]
    }
   ],
   "source": [
    "criterion = nn.MSELoss(reduction='mean')\n",
    "optimizer = torch.optim.SGD(model.parameters(), lr=lr, momentum=momentum) \n",
    "\n",
    "\n",
    "best_loss, step, early_stop_count = math.inf, 0, 0\n",
    "\n",
    "train_pbar = tqdm(range(n_epochs), position=0, leave=True)\n",
    "for epoch in train_pbar:\n",
    "    model.train()\n",
    "    loss_record = []\n",
    "\n",
    "    for x, y in train_loader:\n",
    "        x, y = x.to(device), y.to(device)\n",
    "        pred = model(x)             \n",
    "        loss = criterion(pred, y)\n",
    "        \n",
    "        optimizer.zero_grad()\n",
    "        loss.backward()\n",
    "        optimizer.step()\n",
    "        \n",
    "        step += 1\n",
    "        loss_record.append(loss.detach().item())\n",
    "\n",
    "        # Display current epoch number and loss on tqdm progress bar.\n",
    "        train_pbar.set_description(f'Epoch [{epoch+1}/{n_epochs}]')\n",
    "        train_pbar.set_postfix({'loss': loss.detach().item()})\n",
    "\n",
    "    if epoch % valid_epoch==0:\n",
    "        mean_train_loss = sum(loss_record)/len(loss_record)\n",
    "\n",
    "        model.eval() # Set your model to evaluation mode.\n",
    "        loss_record = []\n",
    "        for x, y in valid_loader:\n",
    "            x, y = x.to(device), y.to(device)\n",
    "            with torch.no_grad():\n",
    "                pred = model(x)\n",
    "                loss = criterion(pred, y)\n",
    "\n",
    "            loss_record.append(loss.item())\n",
    "\n",
    "        mean_valid_loss = sum(loss_record)/len(loss_record)\n",
    "        print(f'Epoch [{epoch+1}/{n_epochs}]: Train loss: {mean_train_loss:.4f}, Valid loss: {mean_valid_loss:.4f}')\n",
    "\n",
    "    if mean_valid_loss < best_loss:\n",
    "        best_loss = mean_valid_loss\n",
    "        torch.save(model.state_dict(), save_path)\n",
    "        print('Saving model with loss {:.3f}...'.format(best_loss))\n"
   ]
  },
  {
   "cell_type": "code",
   "execution_count": 8,
   "id": "a855099b",
   "metadata": {},
   "outputs": [
    {
     "name": "stdout",
     "output_type": "stream",
     "text": [
      "Input: [-27. -33. -45. -36. -41. -45. -55. -45.]\n",
      "Prediction: [0.7224847 3.9309115]\n",
      "GT        : [1. 7.]\n",
      "\n",
      "\n",
      "Input: [-37. -35. -44. -37. -40. -46. -55. -46.]\n",
      "Prediction: [0.73290074 5.2023344 ]\n",
      "GT        : [-1.  6.]\n",
      "\n",
      "\n",
      "Input: [-23. -39. -38. -37. -34. -52. -59. -49.]\n",
      "Prediction: [1.6801782 2.4403706]\n",
      "GT        : [4. 3.]\n",
      "\n",
      "\n",
      "Input: [-32. -37. -50. -35. -40. -44. -60. -51.]\n",
      "Prediction: [0.84700453 4.900565  ]\n",
      "GT        : [1. 9.]\n",
      "\n",
      "\n",
      "Input: [-31. -40. -47. -40. -42. -54. -57. -53.]\n",
      "Prediction: [0.9110791 5.3505487]\n",
      "GT        : [1.5 5.5]\n",
      "\n",
      "\n",
      "Input: [-30. -67. -46. -35. -37. -47. -59. -50.]\n",
      "Prediction: [1.7826805 2.9247172]\n",
      "GT        : [-1.  9.]\n",
      "\n",
      "\n"
     ]
    }
   ],
   "source": [
    "test_loader = DataLoader(test_dataset, batch_size=1, shuffle=False, pin_memory=True)\n",
    "\n",
    "model.eval() # Set your model to evaluation mode.\n",
    "loss_record = []\n",
    "with torch.no_grad():\n",
    "    for x, y in test_loader:\n",
    "        x, y = x.to(device), y.to(device)\n",
    "        pred = model(x)\n",
    "        print(f'Input: {x.cpu().detach().numpy()[0]}')\n",
    "        print(f'Prediction: {pred.cpu().detach().numpy()[0]}')\n",
    "        print(f'GT        : {y.cpu().detach().numpy()[0]}\\n\\n')"
   ]
  }
 ],
 "metadata": {
  "kernelspec": {
   "display_name": "habitat",
   "language": "python",
   "name": "habitat"
  },
  "language_info": {
   "codemirror_mode": {
    "name": "ipython",
    "version": 3
   },
   "file_extension": ".py",
   "mimetype": "text/x-python",
   "name": "python",
   "nbconvert_exporter": "python",
   "pygments_lexer": "ipython3",
   "version": "3.7.0"
  }
 },
 "nbformat": 4,
 "nbformat_minor": 5
}
